{
 "cells": [
  {
   "cell_type": "markdown",
   "metadata": {},
   "source": [
    "## Getting Started With Geospatial Data Analysis "
   ]
  },
  {
   "cell_type": "markdown",
   "metadata": {},
   "source": [
    "This notebook covers the basics of getting started with Geospatial Data Analysis on SageMaker Studio. We start with exploring the sentinel geospatial dataset available at AWS open data registry. We explore deforestation data by analyzing [Sentinel-2](https://registry.opendata.aws/sentinel-2/) geospatial data and calculating spectral indices. Below is the example of XXXX. Similar concept will be used to identified forest cut temporal detection. "
   ]
  },
  {
   "cell_type": "markdown",
   "metadata": {},
   "source": [
    "## Install Packages (Optional)"
   ]
  },
  {
   "cell_type": "markdown",
   "metadata": {},
   "source": [
    "Creating a environment in Studio is easy, by default sagemaker will have conda environment installed. you can use 'pip install' commands to to install required packages\n",
    "below are the all the required packages for this workshop \n",
    "you only needs to install package first time when you create any notebook"
   ]
  },
  {
   "cell_type": "code",
   "execution_count": null,
   "metadata": {},
   "outputs": [],
   "source": [
    "%pip install pandas\n",
    "%pip install numpy\n",
    "%pip install geopandas\n",
    "#%pip install shapely\n",
    "%pip install matplotlib\n",
    "#%pip install plotly_express\n",
    "%pip install sentinelhub\n",
    "%pip install rasterio\n",
    "#%pip install utils\n",
    "#%pip install folium\n",
    "%pip install earthpy\n",
    "%pip install awswrangler"
   ]
  },
  {
   "cell_type": "markdown",
   "metadata": {},
   "source": [
    "## Import Packages"
   ]
  },
  {
   "cell_type": "markdown",
   "metadata": {},
   "source": [
    "After the environment is created and selected or the packages installed manually, we can import them directly."
   ]
  },
  {
   "cell_type": "code",
   "execution_count": null,
   "metadata": {},
   "outputs": [],
   "source": [
    "import pandas as pd\n",
    "import numpy as np\n",
    "import geopandas as gpd\n",
    "from shapely.geometry import Point\n",
    "import matplotlib\n",
    "import matplotlib.pyplot as plt \n",
    "import folium\n",
    "import plotly_express as px\n",
    "import os\n",
    "import warnings\n",
    "import datetime\n",
    "import json\n",
    "import boto3\n",
    "import gc\n",
    "import rasterio as rio\n",
    "import os\n",
    "import earthpy.spatial as es\n",
    "import earthpy.plot as ep\n",
    "import imageio\n",
    "import io\n",
    "import awswrangler as wr\n",
    "\n",
    "%matplotlib inline\n",
    "warnings.filterwarnings('ignore')"
   ]
  },
  {
   "cell_type": "markdown",
   "metadata": {},
   "source": [
    "## Process the files and Save images output folder"
   ]
  },
  {
   "cell_type": "markdown",
   "metadata": {},
   "source": [
    "Now we have files downloded in S3. We need find all the folders in the bucket. \n",
    "we will be using [AWS Data Wrangler](https://aws-sdk-pandas.readthedocs.io/en/2.16.1/index.html)\n",
    "\n",
    "An [AWS Professional Service](https://aws.amazon.com/professional-services/) [open source](https://github.com/aws/aws-sdk-pandas) python initiative that extends the power of [Pandas](https://github.com/pandas-dev/pandas) library to AWS connecting DataFrames and AWS data related services.\n",
    "\n",
    "\n",
    "We will be using [list_directories](https://aws-sdk-pandas.readthedocs.io/en/2.16.1/stubs/awswrangler.s3.list_directories.html#awswrangler.s3.list_directories) and [list_objects](https://aws-sdk-pandas.readthedocs.io/en/2.16.1/stubs/awswrangler.s3.list_objects.html#awswrangler.s3.list_objects) method. \n",
    "\n",
    "as name suggesest list_directories return list if folders in the current prefix and list_objects will return list if objects inside certain prefix.\n"
   ]
  },
  {
   "cell_type": "code",
   "execution_count": null,
   "metadata": {},
   "outputs": [],
   "source": [
    "# get the list of all the objects into the python list \n",
    "s3objects = wr.s3.list_objects('<<bucket/tiles>>')"
   ]
  },
  {
   "cell_type": "code",
   "execution_count": null,
   "metadata": {},
   "outputs": [],
   "source": [
    "print(s3objects)"
   ]
  },
  {
   "cell_type": "markdown",
   "metadata": {},
   "source": [
    "Now we will you can see that we have files at very deep level based on how sentinel-2 bucket stores the data\n",
    "\n",
    "to process each files we want to have list of all the folder/prefix so we can iterate through the list."
   ]
  },
  {
   "cell_type": "code",
   "execution_count": null,
   "metadata": {},
   "outputs": [],
   "source": [
    "# split the path and store list of prefix into the list.\n",
    "s3folders = [item.rsplit('/',1)[0] for item in s3objects]"
   ]
  },
  {
   "cell_type": "markdown",
   "metadata": {},
   "source": [
    "now you can see that there will be multiple files in one folder so to reduce looping lets keep only unique list items."
   ]
  },
  {
   "cell_type": "code",
   "execution_count": null,
   "metadata": {},
   "outputs": [],
   "source": [
    "s3folders =np.unique(s3folders)"
   ]
  },
  {
   "cell_type": "markdown",
   "metadata": {},
   "source": [
    "Lets validate that we have correct folder list"
   ]
  },
  {
   "cell_type": "code",
   "execution_count": null,
   "metadata": {},
   "outputs": [],
   "source": [
    "print(s3folders)"
   ]
  },
  {
   "cell_type": "markdown",
   "metadata": {},
   "source": [
    "Now we have list of folders we will iterate through the files in each folders"
   ]
  },
  {
   "cell_type": "markdown",
   "metadata": {},
   "source": [
    "## Working With Geospatial Images"
   ]
  },
  {
   "cell_type": "markdown",
   "metadata": {},
   "source": [
    "For Geospatial data, we will use Sentinel-2. The [Sentinel-2 mission](https://sentinel.esa.int/web/sentinel/missions/sentinel-2) is a land monitoring constellation of two satellites that provide high resolution optical imagery and continuity for the current SPOT and Landsat missions. The Sentinel-2 dataset is available publicly at the [AWS open data registry](https://registry.opendata.aws/sentinel-2/).\n",
    "\n",
    "The Sentinel-2 satellites each carry a single multi-spectral instrument (MSI) with 13 spectral channels in the visible/near infrared (VNIR) and short wave infrared spectral range (SWIR). You can read more about these bands [here](https://en.wikipedia.org/wiki/Sentinel-2#Spectral_bands). \n",
    "\n",
    "\n",
    "Here is the table of the bands captured by Sentinel-2"
   ]
  },
  {
   "cell_type": "markdown",
   "metadata": {},
   "source": [
    "|Band|Resolution|Description|\n",
    "|---|---|---|\n",
    "|B1\t|60 m\t|Ultra Blue (Coastal and Aerosol)|\n",
    "|B2\t|10 m\t|Blue|\n",
    "|B3\t|10 m\t|Green|\n",
    "|B4\t|10 m\t|Red|\n",
    "|B5\t|20 m\t|Visible and Near Infrared (VNIR)|\n",
    "|B6\t|20 m\t|Visible and Near Infrared (VNIR)|\n",
    "|B7\t|20 m\t|Visible and Near Infrared (VNIR)|\n",
    "|B8\t|10 m\t|Visible and Near Infrared (VNIR)|\n",
    "|B8a|20 m\t|Visible and Near Infrared (VNIR)|\n",
    "|B9\t|60 m\t|Short Wave Infrared (SWIR)|\n",
    "|B10|60 m\t|Short Wave Infrared (SWIR)|\n",
    "|B11|20 m\t|Short Wave Infrared (SWIR)|\n",
    "|B12|20 m\t|Short Wave Infrared (SWIR)|"
   ]
  },
  {
   "cell_type": "markdown",
   "metadata": {},
   "source": [
    "## Working with Raster Data\n",
    "\n",
    "Geospatial data is essentially comprised of raster data or vector data. Sentinel-2 uses GeoTIFF, a gridded raster datasets for satellite imagery and terrain models. [Rasterio is a Python library](https://rasterio.readthedocs.io/en/latest/) that allows to read, inspect, visualize and write geospatial raster data. Here we use rasterio to read thee raster arrays and then use this data to create a true color image."
   ]
  },
  {
   "cell_type": "code",
   "execution_count": null,
   "metadata": {},
   "outputs": [],
   "source": [
    "from rasterio import plot\n",
    "from rasterio.plot import show"
   ]
  },
  {
   "cell_type": "code",
   "execution_count": null,
   "metadata": {},
   "outputs": [],
   "source": [
    "with rio.open('<<S3 path for B04.jp2>>') as src:\n",
    "    red = src.read()\n",
    "plt.figure(figsize=[10,10],num=1, clear=True)\n",
    "show(red) #RdYlGn\n",
    "plt.show()"
   ]
  },
  {
   "cell_type": "code",
   "execution_count": null,
   "metadata": {},
   "outputs": [],
   "source": [
    "vmin, vmax = np.nanpercentile(red, (5,95))  # 5-95% contrast stretch\n",
    "plt.figure(figsize=[10,10])\n",
    "show(red, cmap='gray', vmin=vmin, vmax=vmax)\n",
    "plt.show()"
   ]
  },
  {
   "cell_type": "markdown",
   "metadata": {},
   "source": [
    " "
   ]
  },
  {
   "cell_type": "code",
   "execution_count": null,
   "metadata": {},
   "outputs": [],
   "source": [
    "with rio.open('<<S3 Path for B08.jp2>>') as src:\n",
    "    nir = src.read()\n",
    "vmin, vmax = np.nanpercentile(nir, (5,95))  # 5-95% contrast stretch    \n",
    "plt.figure(figsize=[10,10],num=1, clear=True)\n",
    "show(nir, cmap='YlGnBu', vmin=vmin, vmax=vmax) #RdYlGn #YlGnBu\n",
    "plt.show()\n"
   ]
  },
  {
   "cell_type": "markdown",
   "metadata": {},
   "source": [
    "## Calculating Spectral Indices\n",
    "\n",
    "Spectral indices are combinations of the pixel values from two or more spectral bands in a multispectral image. Spectral indices highlight pixels showing the relative abundance or lack of a land-cover type of interest in an image. Let's looks at a couple Wikipedia: [source](https://en.wikipedia.org/wiki/Normalized_difference_vegetation_index), visual example: [source](https://gisgeography.com/sentinel-2-bands-combinations/) \n",
    "\n",
    "## Normalized Difference Vegetation Index - NDVI\n",
    "\n",
    "The normalized difference vegetation index is a simple graphical indicator that can be used to analyze whether or not the target being observed contains live green vegetation.\n",
    "near-infrared (which vegetation strongly reflects) and red light (which vegetation absorbs), the vegetation index is good for quantifying the amount of vegetation. The formula for the normalized difference vegetation index is (B8-B4)/(B8+B4). While high values suggest dense canopy, low or negative values indicate urban and water features.\n",
    "\n",
    "It calculated as NDVI = (B8 - B4) /(B8 + B4) or (NIR – Red) / (NIR + Red)\n",
    "\n",
    "\n",
    "## Moisture Index \n",
    "The Moisture index is ideal for finding water stress in plants. It uses the short-wave and near-infrared to generate an index of moisture content. In general, wetter vegetation has higher values. But lower moisture index values suggest plants are under stress from insufficient moisture.\n",
    "\n",
    "It calculated as (B8A - B11) / (B8A + B11)\n"
   ]
  },
  {
   "cell_type": "markdown",
   "metadata": {},
   "source": [
    "Now that we already have processed B4 and B8 bands we can calculate Normalized Difference Vegetation Index "
   ]
  },
  {
   "cell_type": "code",
   "execution_count": null,
   "metadata": {},
   "outputs": [],
   "source": [
    "#It calculated as NDVI = (B8 - B4) /(B8 + B4) or (NIR – Red) / (NIR + Red)\n",
    "ndvisample = (nir.astype(float)-red.astype(float))/(nir.astype(float)+red.astype(float))"
   ]
  },
  {
   "cell_type": "code",
   "execution_count": null,
   "metadata": {},
   "outputs": [],
   "source": [
    "#we are using earthpy to visualize NDVI\n",
    "ep.plot_bands(ndvisample, cmap=\"RdYlGn\", vmin=-1, vmax=1);"
   ]
  },
  {
   "cell_type": "markdown",
   "metadata": {},
   "source": [
    "Now lets apply this transformation to the date range we have downloded "
   ]
  },
  {
   "cell_type": "markdown",
   "metadata": {},
   "source": [
    "if you remember we have list if s3 folders in the variable: s3folders \n",
    "All the folders will have atleast two bands files B4 and B8 which will help us to calculate NDVI for each snapshot"
   ]
  },
  {
   "cell_type": "markdown",
   "metadata": {},
   "source": [
    "### We will follow below process \n",
    "- we will loop through all the folders\n",
    "- for each folder should have bands files \n",
    "- we will process B4 and B8 bands \n",
    "- calculate NDVI with formula  NDVI = (B8 - B4) /(B8 + B4)\n",
    "- save the output image to a defined S3 bucket\n"
   ]
  },
  {
   "cell_type": "code",
   "execution_count": null,
   "metadata": {},
   "outputs": [],
   "source": [
    "#this function will save image to bucket\n",
    "def savendviimage_s3(ndvi, BUCKET_NAME,KEY):\n",
    "\n",
    "\n",
    "    \n",
    "    fig = plt.figure(figsize=(10,10),num=1, clear=True)\n",
    "\n",
    "\n",
    "    ax = ax = fig.add_subplot(111)\n",
    "\n",
    "    # Use 'imshow' to specify the input data, colormap, min, max, and norm for the colorbar\n",
    "    cbar_plot = ax.imshow(ndvi.squeeze(), cmap=plt.cm.RdYlGn , vmin=-1, vmax=1)\n",
    "\n",
    "\n",
    "    # Turn off the display of axis labels \n",
    "    ax.axis('off')\n",
    "\n",
    "    # Set a title \n",
    "    #ax.set_title('Normalized Difference Vegetation Index', fontsize=17, fontweight='bold')\n",
    "\n",
    "    # Configure the colorbar\n",
    "    #cbar = fig.colorbar(cbar_plot, orientation='vertical', shrink=0.65)\n",
    "\n",
    "    img_data = io.BytesIO()\n",
    "    #plt.savefig(img_data, format='png') #if you want to save files to files system\n",
    "    \n",
    "    # Call 'savefig' to save this plot to an image file\n",
    "    fig.savefig(img_data, dpi=100, bbox_inches='tight', pad_inches=0, format='png')\n",
    "    img_data.seek(0)\n",
    "    \n",
    "    \n",
    "    s3 = boto3.resource('s3')\n",
    "    bucket = s3.Bucket(BUCKET_NAME)\n",
    "    bucket.put_object(Body=img_data, ContentType='image/png', Key=KEY)\n",
    "    \n",
    "    "
   ]
  },
  {
   "cell_type": "code",
   "execution_count": null,
   "metadata": {},
   "outputs": [],
   "source": [
    "for folderpath in s3folders:\n",
    "    files = wr.s3.list_objects(folderpath)\n",
    "    for file in files:\n",
    "        splittedpath = file.split('/')\n",
    "        #define the imagename based on date\n",
    "        imagename = splittedpath[-5]+splittedpath[-4]+splittedpath[-3]+'.png'\n",
    "        if(file.find('B04.jp2')>-1):\n",
    "            #read band b4 files\n",
    "            with rio.open(file) as src:\n",
    "                redfloat = src.read().astype(float)\n",
    "        if(file.find('B08.jp2')>-1):\n",
    "            with rio.open(file) as src:\n",
    "                nirfloat = src.read().astype(float)\n",
    "            #Calculate NDVI\n",
    "            ndvi = (nirfloat-redfloat)/(nirfloat+redfloat)\n",
    "            #Saveimage to s3 \n",
    "            savendviimage_s3(ndvi,'reinvent22sentineldata','output/'+imagename)\n",
    "            #for memory management\n",
    "            if 'redfloat' in globals():\n",
    "                del redfloat\n",
    "            if 'nirfloat' in globals():\n",
    "                del nirfloat\n",
    "            if 'ndvi' in globals():\n",
    "                del ndvi\n",
    "            gc.collect()\n",
    "            #print(imagename)"
   ]
  },
  {
   "cell_type": "markdown",
   "metadata": {},
   "source": []
  },
  {
   "cell_type": "markdown",
   "metadata": {},
   "source": [
    "The above visualization shows us the classification of deforestation  plotted for region. You can see the dense forest area in dark green and dead forest or no forest in contrasting shades."
   ]
  },
  {
   "cell_type": "markdown",
   "metadata": {},
   "source": [
    "## Clean Up (Optional)\n",
    "\n",
    "Though we did not create any AWS billable resources as part of this exercise, the geographic and GIS data that we downloaded and the images generated may take up significant storage. Make sure to check any storage utilization and delete the files as needed. "
   ]
  }
 ],
 "metadata": {
  "instance_type": "ml.g4dn.xlarge",
  "kernelspec": {
   "display_name": "Python 3 (Data Science)",
   "language": "python",
   "name": "python3__SAGEMAKER_INTERNAL__arn:aws:sagemaker:us-east-1:081325390199:image/datascience-1.0"
  },
  "language_info": {
   "codemirror_mode": {
    "name": "ipython",
    "version": 3
   },
   "file_extension": ".py",
   "mimetype": "text/x-python",
   "name": "python",
   "nbconvert_exporter": "python",
   "pygments_lexer": "ipython3",
   "version": "3.7.10"
  }
 },
 "nbformat": 4,
 "nbformat_minor": 4
}
